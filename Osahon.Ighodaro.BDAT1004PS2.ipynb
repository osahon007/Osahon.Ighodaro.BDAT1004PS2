{
 "cells": [
  {
   "cell_type": "markdown",
   "metadata": {},
   "source": [
    "# QUESTION 1"
   ]
  },
  {
   "cell_type": "code",
   "execution_count": 31,
   "metadata": {},
   "outputs": [],
   "source": [
    "a = 0\n",
    "\n",
    "def b():\n",
    "    global a\n",
    "    a = c(a)\n",
    "\n",
    "def c(a):\n",
    "    return a + 2"
   ]
  },
  {
   "cell_type": "code",
   "execution_count": 32,
   "metadata": {},
   "outputs": [],
   "source": [
    "# the function c(a) is called and the value of a is 0. This returns 2. Hence the function b() returns the new value of a as 2, but is not printed out\n",
    "b()"
   ]
  },
  {
   "cell_type": "code",
   "execution_count": 33,
   "metadata": {},
   "outputs": [],
   "source": [
    "# the function c(a) is called and the value of a is 2. This returns 4. Hence the function b() returns the new value of a as 4 but is not printed out\n",
    "b()"
   ]
  },
  {
   "cell_type": "code",
   "execution_count": 34,
   "metadata": {},
   "outputs": [],
   "source": [
    "# the function c(a) is called and the value of a is 4. This returns 6. Hence the function b() returns the new value of a as 6 but is not printed out\n",
    "b()"
   ]
  },
  {
   "cell_type": "code",
   "execution_count": 35,
   "metadata": {},
   "outputs": [
    {
     "name": "stdout",
     "output_type": "stream",
     "text": [
      "6\n"
     ]
    }
   ],
   "source": [
    "print(a)"
   ]
  },
  {
   "cell_type": "markdown",
   "metadata": {},
   "source": [
    "# QUESTION 2"
   ]
  },
  {
   "cell_type": "code",
   "execution_count": 63,
   "metadata": {},
   "outputs": [
    {
     "data": {
      "text/plain": [
       "358"
      ]
     },
     "execution_count": 63,
     "metadata": {},
     "output_type": "execute_result"
    }
   ],
   "source": [
    "def fileLength(data):\n",
    "    'converts first line of file filename to an integer and prints it'\n",
    "    try:\n",
    "        infile = open(data,'r')\n",
    "        fLenght = infile.read()\n",
    "        infile.close()\n",
    "        return len(fLenght)\n",
    "        \n",
    "    \n",
    "    except :\n",
    "        print('This file does not exist')\n",
    "        \n",
    "\n",
    "fileLength('midterm.py')  \n",
    "\n",
    "\n"
   ]
  },
  {
   "cell_type": "code",
   "execution_count": 62,
   "metadata": {},
   "outputs": [
    {
     "name": "stdout",
     "output_type": "stream",
     "text": [
      "This file does not exist\n"
     ]
    }
   ],
   "source": [
    "def fileLength(data):\n",
    "    'converts first line of file filename to an integer and prints it'\n",
    "    try:\n",
    "        infile = open(data,'r')\n",
    "        fLenght = infile.read()\n",
    "        infile.close()\n",
    "        return len(fLenght)\n",
    "    \n",
    "    except :\n",
    "        print('This file does not exist')\n",
    "        \n",
    "\n",
    "fileLength('idterm.py')"
   ]
  },
  {
   "cell_type": "markdown",
   "metadata": {},
   "source": [
    "# QUESTION 3"
   ]
  },
  {
   "cell_type": "code",
   "execution_count": 20,
   "metadata": {},
   "outputs": [
    {
     "name": "stdout",
     "output_type": "stream",
     "text": [
      "['doll', 'firetruck', 'kitten']\n"
     ]
    }
   ],
   "source": [
    "class Marsupial:\n",
    "\n",
    "#this initializes the empty list\n",
    "    def __init__(self):\n",
    "        self.item =[]\n",
    "      \n",
    "#this ensures the list is being populated for everytime an object is created using this function\n",
    "    def put_in_pouch(self, x):\n",
    "        self.item.append(x)\n",
    "\n",
    "#this prints out the final list\n",
    "    def pouch_contents(self):\n",
    "        print(self.item)\n",
    "        \n",
    "     \n",
    "m = Marsupial()\n",
    "m.put_in_pouch('doll')\n",
    "\n",
    "m.put_in_pouch('firetruck')\n",
    "m.put_in_pouch('kitten')\n",
    "\n",
    "m.pouch_contents()\n",
    "\n"
   ]
  },
  {
   "cell_type": "code",
   "execution_count": 21,
   "metadata": {},
   "outputs": [
    {
     "ename": "TypeError",
     "evalue": "__init__() takes 1 positional argument but 3 were given",
     "output_type": "error",
     "traceback": [
      "\u001b[1;31m---------------------------------------------------------------------------\u001b[0m",
      "\u001b[1;31mTypeError\u001b[0m                                 Traceback (most recent call last)",
      "\u001b[1;32m<ipython-input-21-433d5700d0aa>\u001b[0m in \u001b[0;36m<module>\u001b[1;34m\u001b[0m\n\u001b[0;32m      6\u001b[0m         \u001b[0mprint\u001b[0m\u001b[1;33m(\u001b[0m\u001b[1;34m'I am a Kangaroo located at ({},{})'\u001b[0m\u001b[1;33m.\u001b[0m\u001b[0mformat\u001b[0m\u001b[1;33m(\u001b[0m\u001b[0mself\u001b[0m\u001b[1;33m.\u001b[0m\u001b[0mx\u001b[0m\u001b[1;33m,\u001b[0m\u001b[0mself\u001b[0m\u001b[1;33m.\u001b[0m\u001b[0my\u001b[0m\u001b[1;33m)\u001b[0m \u001b[1;33m)\u001b[0m\u001b[1;33m\u001b[0m\u001b[1;33m\u001b[0m\u001b[0m\n\u001b[0;32m      7\u001b[0m \u001b[1;33m\u001b[0m\u001b[0m\n\u001b[1;32m----> 8\u001b[1;33m \u001b[0mk\u001b[0m \u001b[1;33m=\u001b[0m \u001b[0mKangaroo\u001b[0m\u001b[1;33m(\u001b[0m\u001b[1;36m0\u001b[0m\u001b[1;33m,\u001b[0m\u001b[1;36m0\u001b[0m\u001b[1;33m)\u001b[0m\u001b[1;33m\u001b[0m\u001b[1;33m\u001b[0m\u001b[0m\n\u001b[0m\u001b[0;32m      9\u001b[0m \u001b[1;33m\u001b[0m\u001b[0m\n\u001b[0;32m     10\u001b[0m \u001b[0mprint\u001b[0m\u001b[1;33m(\u001b[0m\u001b[0mk\u001b[0m\u001b[1;33m)\u001b[0m\u001b[1;33m\u001b[0m\u001b[1;33m\u001b[0m\u001b[0m\n",
      "\u001b[1;31mTypeError\u001b[0m: __init__() takes 1 positional argument but 3 were given"
     ]
    }
   ],
   "source": [
    "class Kangaroo (Marsupial):\n",
    "        \n",
    "    def jump (self, dx, dy):\n",
    "        self.x += dx\n",
    "        self.y += dy\n",
    "        print('I am a Kangaroo located at ({},{})'.format(self.x,self.y) )\n",
    "\n",
    "k = Kangaroo(0,0)\n",
    "\n",
    "print(k)"
   ]
  },
  {
   "cell_type": "markdown",
   "metadata": {},
   "source": [
    "# QUESTION 4"
   ]
  },
  {
   "cell_type": "code",
   "execution_count": 84,
   "metadata": {},
   "outputs": [],
   "source": [
    "from tkinter import *\n",
    "\n",
    "root = Tk() \n",
    "\n",
    "#Creating Frames\n",
    "leftFrame = LabelFrame(root , width = 500, height = 300, padx=40,pady=40)\n",
    "leftFrame.pack(side=LEFT)\n",
    "rightFrame = LabelFrame(root, width = 200, height = 200)\n",
    "rightFrame.pack(side=RIGHT)\n",
    "\n",
    "#LEFT FRAME\n",
    "#Creating the labels and Input boxes\n",
    "labelOne = Label(leftFrame, text= 'Loan Amount:')\n",
    "labelOne.grid(row = 1)\n",
    "entryOne = Entry(leftFrame)\n",
    "entryOne.grid (row=1, column = 1)\n",
    "\n",
    "labelTwo = Label(leftFrame, text= 'Interest rate:')\n",
    "labelTwo.grid(row = 2)\n",
    "entryTwo = Entry(leftFrame)\n",
    "entryTwo.grid (row=2, column = 1)\n",
    "\n",
    "labelThree = Label(leftFrame, text= 'Loan terms:')\n",
    "labelThree.grid(row = 3)\n",
    "entryThree = Entry(leftFrame)\n",
    "entryThree.grid (row=3, column = 1)\n",
    "\n",
    "buttonOne = Button(leftFrame, text= 'Compute mortgage')\n",
    "buttonOne.grid (row=4)\n",
    "outputFour = Entry(leftFrame)\n",
    "outputFour.grid (row=4, column = 1)\n",
    "\n",
    "\n",
    "#RIGHT FRAME\n",
    "#Creating the Input boxes\n",
    "entryOneRight = Entry(rightFrame, borderwidth = 5,bg = 'grey')\n",
    "entryOneRight.grid(row =0, column=0,columnspan =5, padx =10, pady=10)\n",
    "\n",
    "#Creating Differnt Buttons\n",
    "buttonA = Button(rightFrame, text='MC',padx =5, pady=5)\n",
    "buttonA.grid(row=1, column=0)\n",
    "buttonB = Button(rightFrame, text='M+',padx =5, pady=5)\n",
    "buttonB.grid(row=1, column=1)\n",
    "buttonC = Button(rightFrame, text='M-',padx =5, pady=5)\n",
    "buttonC.grid(row=1, column=2)\n",
    "buttonD = Button(rightFrame, text='MR',padx =5, pady=5)\n",
    "buttonD.grid(row=1, column=3)\n",
    "\n",
    "buttonU = Button(rightFrame, text=' C ',padx =5, pady=5)\n",
    "buttonU.grid(row=2, column=0)\n",
    "buttonV = Button(rightFrame, text=' √ ',padx =5, pady=5)\n",
    "buttonV.grid(row=2, column=1)\n",
    "buttonW = Button(rightFrame, text=' x² ',padx =5, pady=5)\n",
    "buttonW.grid(row=2, column=2)\n",
    "buttonX = Button(rightFrame, text=' + ',padx =5, pady=5)\n",
    "buttonX.grid(row=2, column=3)\n",
    "\n",
    "buttonE = Button(rightFrame, text=' 7 ',padx =5, pady=5)\n",
    "buttonE.grid(row=3, column=0)\n",
    "buttonF = Button(rightFrame, text=' 8 ',padx =5, pady=5)\n",
    "buttonF.grid(row=3, column=1)\n",
    "buttonG = Button(rightFrame, text=' 9 ',padx =5, pady=5)\n",
    "buttonG.grid(row=3, column=2)\n",
    "buttonH = Button(rightFrame, text=' - ',padx =5, pady=5)\n",
    "buttonH.grid(row=3, column=3)\n",
    "\n",
    "buttonI = Button(rightFrame, text=' 4 ',padx =5, pady=5)\n",
    "buttonI.grid(row=4, column=0)\n",
    "buttonJ = Button(rightFrame, text=' 5 ',padx =5, pady=5)\n",
    "buttonJ.grid(row=4, column=1)\n",
    "buttonK = Button(rightFrame, text=' 6 ',padx =5, pady=5)\n",
    "buttonK.grid(row=4, column=2)\n",
    "buttonL = Button(rightFrame, text=' * ',padx =5, pady=5)\n",
    "buttonL.grid(row=4, column=3)\n",
    "\n",
    "buttonM = Button(rightFrame, text=' 1 ',padx =5, pady=5)\n",
    "buttonM.grid(row=5, column=0)\n",
    "buttonN = Button(rightFrame, text=' 2 ',padx =5, pady=5)\n",
    "buttonN.grid(row=5, column=1)\n",
    "buttonO = Button(rightFrame, text=' 3 ',padx =5, pady=5)\n",
    "buttonO.grid(row=5, column=2)\n",
    "buttonP = Button(rightFrame, text=' / ',padx =5, pady=5)\n",
    "buttonP.grid(row=5, column=3)\n",
    "\n",
    "buttonQ = Button(rightFrame, text=' 0 ',padx =5, pady=5)\n",
    "buttonQ.grid(row=6, column=0)\n",
    "buttonR = Button(rightFrame, text=' . ',padx =5, pady=5)\n",
    "buttonR.grid(row=6, column=1)\n",
    "buttonS = Button(rightFrame, text=' ± ',padx =5, pady=5)\n",
    "buttonS.grid(row=6, column=2)\n",
    "buttonT = Button(rightFrame, text=' = ',padx =5, pady=5)\n",
    "buttonT.grid(row=6, column=3)\n",
    "\n",
    "root.mainloop()"
   ]
  },
  {
   "cell_type": "code",
   "execution_count": null,
   "metadata": {},
   "outputs": [],
   "source": []
  },
  {
   "cell_type": "markdown",
   "metadata": {},
   "source": [
    "# QUESTION 5"
   ]
  },
  {
   "cell_type": "code",
   "execution_count": 14,
   "metadata": {},
   "outputs": [
    {
     "name": "stdout",
     "output_type": "stream",
     "text": [
      "5\n",
      "16\n",
      "8\n",
      "4\n",
      "2\n",
      "1\n"
     ]
    }
   ],
   "source": [
    "\n",
    "def collatz(x):\n",
    "   \n",
    "    #Defines the base step\n",
    "    if x == 1:\n",
    "        return x\n",
    "\n",
    "    #Defines the recursive step\n",
    "    else:\n",
    "        if x%2 == 0:\n",
    "            print(int(x/2))\n",
    "            collatz(x/2)\n",
    "        else:\n",
    "            print(int(3*x + 1))\n",
    "            collatz(3*x + 1)\n",
    "        \n",
    "collatz(int(10))"
   ]
  },
  {
   "cell_type": "markdown",
   "metadata": {},
   "source": [
    "# QUESTION 6"
   ]
  },
  {
   "cell_type": "code",
   "execution_count": 73,
   "metadata": {},
   "outputs": [
    {
     "name": "stdout",
     "output_type": "stream",
     "text": [
      "Enter a number\n",
      "67\n",
      "1000011\n"
     ]
    }
   ],
   "source": [
    "while True:\n",
    "    try:\n",
    "        x = int(input('Enter a number\\n'))\n",
    "        if x>=0:\n",
    "            output = bin(x)\n",
    "            print(output[2:])\n",
    "            break\n",
    "    except:\n",
    "        print('Enter a non-negative number')"
   ]
  },
  {
   "cell_type": "markdown",
   "metadata": {},
   "source": [
    "# QUESTION 7"
   ]
  },
  {
   "cell_type": "code",
   "execution_count": 37,
   "metadata": {},
   "outputs": [
    {
     "ename": "NameError",
     "evalue": "name 'Collector' is not defined",
     "output_type": "error",
     "traceback": [
      "\u001b[1;31m---------------------------------------------------------------------------\u001b[0m",
      "\u001b[1;31mNameError\u001b[0m                                 Traceback (most recent call last)",
      "\u001b[1;32m<ipython-input-37-4a8c1da7fe9b>\u001b[0m in \u001b[0;36m<module>\u001b[1;34m\u001b[0m\n\u001b[0;32m     37\u001b[0m \u001b[0mresource\u001b[0m \u001b[1;33m=\u001b[0m \u001b[0murlopen\u001b[0m\u001b[1;33m(\u001b[0m\u001b[0murl\u001b[0m\u001b[1;33m)\u001b[0m\u001b[1;33m\u001b[0m\u001b[1;33m\u001b[0m\u001b[0m\n\u001b[0;32m     38\u001b[0m \u001b[0mcontent\u001b[0m \u001b[1;33m=\u001b[0m \u001b[0mresource\u001b[0m\u001b[1;33m.\u001b[0m\u001b[0mread\u001b[0m\u001b[1;33m(\u001b[0m\u001b[1;33m)\u001b[0m\u001b[1;33m.\u001b[0m\u001b[0mdecode\u001b[0m\u001b[1;33m(\u001b[0m\u001b[1;33m)\u001b[0m\u001b[1;33m\u001b[0m\u001b[1;33m\u001b[0m\u001b[0m\n\u001b[1;32m---> 39\u001b[1;33m \u001b[0mcollector\u001b[0m \u001b[1;33m=\u001b[0m \u001b[0mCollector\u001b[0m\u001b[1;33m(\u001b[0m\u001b[1;33m)\u001b[0m\u001b[1;33m\u001b[0m\u001b[1;33m\u001b[0m\u001b[0m\n\u001b[0m\u001b[0;32m     40\u001b[0m \u001b[0mcollector\u001b[0m\u001b[1;33m.\u001b[0m\u001b[0mfeed\u001b[0m\u001b[1;33m(\u001b[0m\u001b[0mcontent\u001b[0m\u001b[1;33m)\u001b[0m\u001b[1;33m\u001b[0m\u001b[1;33m\u001b[0m\u001b[0m\n\u001b[0;32m     41\u001b[0m \u001b[0mcollector\u001b[0m\u001b[1;33m.\u001b[0m\u001b[0mgetLinks\u001b[0m\u001b[1;33m(\u001b[0m\u001b[1;33m)\u001b[0m\u001b[1;33m\u001b[0m\u001b[1;33m\u001b[0m\u001b[0m\n",
      "\u001b[1;31mNameError\u001b[0m: name 'Collector' is not defined"
     ]
    }
   ],
   "source": [
    "from urllib.request import urlopen\n",
    "\n",
    "from html.parser import HTMLParser\n",
    "class MyHTMLParser(HTMLParser):\n",
    "    'HTML doc parser that prints tags indented '\n",
    "    \n",
    "    def __init__(self):\n",
    "        'initializes the parser and the initial indentation'\n",
    "        HTMLParser.__init__(self)\n",
    "        self.indent = 0            # initial indentation value\n",
    "\n",
    "    def handle_starttag(self, tag, attrs):\n",
    "        '''prints start tag with an indentation proportional\n",
    "           to the depth of the tag's element in the document'''\n",
    "        if tag not in {'br','p'}:\n",
    "            print('{}{} start'.format(self.indent*' ', tag))\n",
    "            self.indent += 4\n",
    "\n",
    "    def handle_endtag(self, tag):\n",
    "        '''prints end tag with an indentation proportional\n",
    "           to the depth of the tag's element in the document'''\n",
    "        if tag not in {'br','p'}:\n",
    "            self.indent -= 4\n",
    "            print('{}{} end'.format(self.indent*' ', tag))\n",
    "\n",
    "class LinkParser(HTMLParser):\n",
    "\n",
    "    def handle_starttag(self, tag, attrs):\n",
    "        #print value of href attribute if any\n",
    "        if tag == 'a':\n",
    "            # search for href attribute and print its value\n",
    "            for attr in attrs:\n",
    "                if attr[0] == 'href':\n",
    "                    print(attr[1])\n",
    "\n",
    "url = 'http://www.w3.org/Consortium/mission.html'\n",
    "resource = urlopen(url)\n",
    "content = resource.read().decode()\n",
    "collector = Collector()\n",
    "collector.feed(content)\n",
    "collector.getLinks()\n",
    "\n",
    "#Unable to gt this to work\n"
   ]
  },
  {
   "cell_type": "code",
   "execution_count": null,
   "metadata": {},
   "outputs": [],
   "source": []
  },
  {
   "cell_type": "markdown",
   "metadata": {},
   "source": [
    "# QUESTION 8"
   ]
  },
  {
   "cell_type": "code",
   "execution_count": null,
   "metadata": {},
   "outputs": [],
   "source": [
    "#Unable to attempt."
   ]
  },
  {
   "cell_type": "markdown",
   "metadata": {},
   "source": [
    "# QUESTION 9"
   ]
  },
  {
   "cell_type": "code",
   "execution_count": 50,
   "metadata": {},
   "outputs": [],
   "source": [
    "import sqlite3\n",
    "con = sqlite3.connect('web.db')\n",
    "cur = con.cursor()"
   ]
  },
  {
   "cell_type": "code",
   "execution_count": 51,
   "metadata": {},
   "outputs": [
    {
     "ename": "OperationalError",
     "evalue": "table weatherReport already exists",
     "output_type": "error",
     "traceback": [
      "\u001b[1;31m---------------------------------------------------------------------------\u001b[0m",
      "\u001b[1;31mOperationalError\u001b[0m                          Traceback (most recent call last)",
      "\u001b[1;32m<ipython-input-51-57aba9f78c94>\u001b[0m in \u001b[0;36m<module>\u001b[1;34m\u001b[0m\n\u001b[1;32m----> 1\u001b[1;33m \u001b[0mcur\u001b[0m\u001b[1;33m.\u001b[0m\u001b[0mexecute\u001b[0m\u001b[1;33m(\u001b[0m\u001b[1;34m\"CREATE TABLE weatherReport (City, Country, Season, Temperature, Rainfall )\"\u001b[0m\u001b[1;33m)\u001b[0m\u001b[1;33m\u001b[0m\u001b[1;33m\u001b[0m\u001b[0m\n\u001b[0m",
      "\u001b[1;31mOperationalError\u001b[0m: table weatherReport already exists"
     ]
    }
   ],
   "source": [
    "cur.execute(\"CREATE TABLE weatherReport (City, Country, Season, Temperature, Rainfall )\")"
   ]
  },
  {
   "cell_type": "code",
   "execution_count": 52,
   "metadata": {},
   "outputs": [
    {
     "data": {
      "text/plain": [
       "<sqlite3.Cursor at 0x1e4d02a8880>"
      ]
     },
     "execution_count": 52,
     "metadata": {},
     "output_type": "execute_result"
    }
   ],
   "source": [
    "cur.execute(\"INSERT INTO weatherReport VALUES ('Mumbai','India','Spring','28.4','16.2')\")\n",
    "cur.execute(\"INSERT INTO weatherReport VALUES ('Mumbai','India','Summer','27.9','1549.4')\")\n",
    "cur.execute(\"INSERT INTO weatherReport VALUES ('Mumbai','India','Fall','27.6','346.0')\")\n",
    "cur.execute(\"INSERT INTO weatherReport VALUES ('London','United Kingdom','Winter','4.2','207.7')\")\n",
    "cur.execute(\"INSERT INTO weatherReport VALUES ('London','United Kingdom','Spring','8.3','169.6')\")\n",
    "cur.execute(\"INSERT INTO weatherReport VALUES ('London','United Kingdom','Summer','15.7','157.0')\")\n",
    "cur.execute(\"INSERT INTO weatherReport VALUES ('London','United Kingdom','Fall','10.4','218.5')\")\n",
    "cur.execute(\"INSERT INTO weatherReport VALUES ('Cario','Egypt','Winter','13.6','16.5')\")\n",
    "cur.execute(\"INSERT INTO weatherReport VALUES ('Cario','Egypt','Spring','20.7','6.5')\")\n",
    "cur.execute(\"INSERT INTO weatherReport VALUES ('Cario','Egypt','Summer','27.7','0.1')\")\n",
    "cur.execute(\"INSERT INTO weatherReport VALUES ('Cario','Egypt','Fall','22.2','4.5')\")"
   ]
  },
  {
   "cell_type": "code",
   "execution_count": 53,
   "metadata": {},
   "outputs": [],
   "source": [
    "con.commit()\n",
    "con.close()"
   ]
  },
  {
   "cell_type": "markdown",
   "metadata": {},
   "source": [
    "#### Question 9a - All the temperature data."
   ]
  },
  {
   "cell_type": "code",
   "execution_count": 54,
   "metadata": {},
   "outputs": [
    {
     "name": "stdout",
     "output_type": "stream",
     "text": [
      "('28.4',)\n",
      "('27.9',)\n",
      "('27.6',)\n",
      "('4.2',)\n",
      "('8.3',)\n",
      "('15.7',)\n",
      "('10.4',)\n",
      "('13.6',)\n",
      "('20.7',)\n",
      "('27.7',)\n",
      "('22.2',)\n"
     ]
    }
   ],
   "source": [
    "\n",
    "import sqlite3\n",
    "con = sqlite3.connect('links.db')\n",
    "cur = con.cursor()\n",
    "cur.execute('SELECT Temperature FROM weatherReport')\n",
    "\n",
    "for i in cur:\n",
    "    print(i)"
   ]
  },
  {
   "cell_type": "markdown",
   "metadata": {},
   "source": [
    "#### Question 9b -All the cities, but without repetition."
   ]
  },
  {
   "cell_type": "code",
   "execution_count": 55,
   "metadata": {},
   "outputs": [
    {
     "name": "stdout",
     "output_type": "stream",
     "text": [
      "('Mumbai',)\n",
      "('London',)\n",
      "('Cario',)\n"
     ]
    }
   ],
   "source": [
    "\n",
    "import sqlite3\n",
    "con = sqlite3.connect('links.db')\n",
    "cur = con.cursor()\n",
    "cur.execute('SELECT DISTINCT City FROM weatherReport')\n",
    "\n",
    "for i in cur:\n",
    "    print(i)"
   ]
  },
  {
   "cell_type": "markdown",
   "metadata": {},
   "source": [
    "#### Question 9c - All the records for India."
   ]
  },
  {
   "cell_type": "code",
   "execution_count": 56,
   "metadata": {},
   "outputs": [
    {
     "name": "stdout",
     "output_type": "stream",
     "text": [
      "('Mumbai', 'India', 'Spring', '28.4', '16.2')\n",
      "('Mumbai', 'India', 'Summer', '27.9', '1549.4')\n",
      "('Mumbai', 'India', 'Fall', '27.6', '346.0')\n"
     ]
    }
   ],
   "source": [
    "\n",
    "import sqlite3\n",
    "con = sqlite3.connect('links.db')\n",
    "cur = con.cursor()\n",
    "cur.execute('SELECT * FROM weatherReport WHERE Country= \"India\"')\n",
    "\n",
    "for i in cur:\n",
    "    print(i)"
   ]
  },
  {
   "cell_type": "markdown",
   "metadata": {},
   "source": [
    "#### Question 9d - All the Fall records."
   ]
  },
  {
   "cell_type": "code",
   "execution_count": 57,
   "metadata": {},
   "outputs": [
    {
     "name": "stdout",
     "output_type": "stream",
     "text": [
      "('Mumbai', 'India', 'Fall', '27.6', '346.0')\n",
      "('London', 'United Kingdom', 'Fall', '10.4', '218.5')\n",
      "('Cario', 'Egypt', 'Fall', '22.2', '4.5')\n"
     ]
    }
   ],
   "source": [
    "\n",
    "import sqlite3\n",
    "con = sqlite3.connect('links.db')\n",
    "cur = con.cursor()\n",
    "cur.execute('SELECT * FROM weatherReport WHERE Season= \"Fall\"')\n",
    "\n",
    "for i in cur:\n",
    "    print(i)"
   ]
  },
  {
   "cell_type": "markdown",
   "metadata": {},
   "source": [
    "#### Question 9e - The city, country, and season for which the average rainfall is between 200 and 400 millimeters."
   ]
  },
  {
   "cell_type": "code",
   "execution_count": 58,
   "metadata": {},
   "outputs": [
    {
     "name": "stdout",
     "output_type": "stream",
     "text": [
      "('Mumbai', 'India', 'Fall')\n",
      "('London', 'United Kingdom', 'Winter')\n",
      "('London', 'United Kingdom', 'Fall')\n",
      "('Cario', 'Egypt', 'Fall')\n"
     ]
    }
   ],
   "source": [
    "\n",
    "import sqlite3\n",
    "con = sqlite3.connect('links.db')\n",
    "cur = con.cursor()\n",
    "cur.execute('SELECT City, Country, Season FROM weatherReport WHERE Rainfall BETWEEN \"200\" AND \"400\"')\n",
    "\n",
    "for i in cur:\n",
    "    print(i)"
   ]
  },
  {
   "cell_type": "markdown",
   "metadata": {},
   "source": [
    "#### Question 9f - The city and country for which the average Fall temperature is above 20 degrees, in increasing temperature order"
   ]
  },
  {
   "cell_type": "code",
   "execution_count": 59,
   "metadata": {},
   "outputs": [
    {
     "name": "stdout",
     "output_type": "stream",
     "text": [
      "('Cario', 'Egypt')\n",
      "('Mumbai', 'India')\n"
     ]
    }
   ],
   "source": [
    "\n",
    "import sqlite3\n",
    "con = sqlite3.connect('links.db')\n",
    "cur = con.cursor()\n",
    "cur.execute('SELECT City, Country FROM weatherReport WHERE Season =\"Fall\" AND Temperature >= \"20\" ORDER BY Temperature')\n",
    "\n",
    "for i in cur:\n",
    "    print(i)"
   ]
  },
  {
   "cell_type": "markdown",
   "metadata": {},
   "source": [
    "#### Question 9g - The total annual rainfall for Cario."
   ]
  },
  {
   "cell_type": "code",
   "execution_count": 60,
   "metadata": {},
   "outputs": [
    {
     "name": "stdout",
     "output_type": "stream",
     "text": [
      "(27.6, 'Cario')\n"
     ]
    }
   ],
   "source": [
    "\n",
    "import sqlite3\n",
    "con = sqlite3.connect('links.db')\n",
    "cur = con.cursor()\n",
    "cur.execute('SELECT SUM(Rainfall),City FROM weatherReport WHERE City =\"Cario\" ')\n",
    "\n",
    "for i in cur:\n",
    "    print(i)"
   ]
  },
  {
   "cell_type": "markdown",
   "metadata": {},
   "source": [
    "#### Question 9h - The total rainfall for each season"
   ]
  },
  {
   "cell_type": "code",
   "execution_count": 61,
   "metadata": {},
   "outputs": [
    {
     "name": "stdout",
     "output_type": "stream",
     "text": [
      "(569.0, 'Fall')\n",
      "(192.29999999999998, 'Spring')\n",
      "(1706.5, 'Summer')\n",
      "(224.2, 'Winter')\n"
     ]
    }
   ],
   "source": [
    "\n",
    "import sqlite3\n",
    "con = sqlite3.connect('links.db')\n",
    "cur = con.cursor()\n",
    "cur.execute('SELECT SUM(Rainfall),Season FROM weatherReport GROUP BY Season ')\n",
    "\n",
    "for i in cur:\n",
    "    print(i)"
   ]
  },
  {
   "cell_type": "code",
   "execution_count": null,
   "metadata": {},
   "outputs": [],
   "source": []
  },
  {
   "cell_type": "markdown",
   "metadata": {},
   "source": [
    "# QUESTION 10"
   ]
  },
  {
   "cell_type": "code",
   "execution_count": 89,
   "metadata": {},
   "outputs": [
    {
     "name": "stdout",
     "output_type": "stream",
     "text": [
      "['THE', 'QUICK', 'BROWN', 'FOX', 'JUMPS', 'OVER', 'THE', 'LAZY', 'DOG']\n",
      "['the', 'quick', 'brown', 'fox', 'jumps', 'over', 'the', 'lazy', 'dog']\n",
      "[3, 5, 5, 3, 5, 4, 3, 4, 3]\n"
     ]
    },
    {
     "data": {
      "text/plain": [
       "[['THE', 'the', 3],\n",
       " ['QUICK', 'quick', 5],\n",
       " ['BROWN', 'brown', 5],\n",
       " ['FOX', 'fox', 3],\n",
       " ['JUMPS', 'jumps', 5],\n",
       " ['OVER', 'over', 4],\n",
       " ['THE', 'the', 3],\n",
       " ['LAZY', 'lazy', 4],\n",
       " ['DOG', 'dog', 3]]"
      ]
     },
     "execution_count": 89,
     "metadata": {},
     "output_type": "execute_result"
    }
   ],
   "source": [
    "word=['The', 'quick', 'brown', 'fox', 'jumps', 'over', 'the', 'lazy', 'dog']\n",
    "\n",
    "newWordOne = []\n",
    "newWordTwo = []\n",
    "newWordThree = []\n",
    "\n",
    "for i in word:\n",
    "    newWordOne.append(i.upper())  #Changes each element in the list to upper case\n",
    "    \n",
    "for i in word:\n",
    "    newWordTwo.append(i.lower())  #Changes each element in the list to lower case\n",
    "\n",
    "for i in word:\n",
    "    newWordThree.append(len(i))   #Calculates the lenght of each element in the list\n",
    "\n",
    "#Question 10a\n",
    "print(newWordOne)\n",
    "\n",
    "\n",
    "#Question 10a\n",
    "print(newWordTwo)\n",
    "\n",
    "\n",
    "#Question 10c\n",
    "print(newWordThree)\n",
    "\n",
    "\n",
    "#Question 10d\n",
    "wordCombine = zip(newWordOne,newWordTwo,newWordThree)\n",
    "\n",
    "list(map(list, wordCombine))\n"
   ]
  },
  {
   "cell_type": "markdown",
   "metadata": {},
   "source": [
    "#### Question 10e"
   ]
  },
  {
   "cell_type": "code",
   "execution_count": 90,
   "metadata": {},
   "outputs": [
    {
     "name": "stdout",
     "output_type": "stream",
     "text": [
      "['quick', 'brown', 'jumps', 'over', 'lazy']\n"
     ]
    }
   ],
   "source": [
    "fourLetterWords = []\n",
    "\n",
    "for i in word:\n",
    "    if len(i)>=4:\n",
    "        fourLetterWords.append(i)\n",
    "        \n",
    "print(fourLetterWords)"
   ]
  },
  {
   "cell_type": "code",
   "execution_count": null,
   "metadata": {},
   "outputs": [],
   "source": []
  },
  {
   "cell_type": "code",
   "execution_count": null,
   "metadata": {},
   "outputs": [],
   "source": []
  }
 ],
 "metadata": {
  "kernelspec": {
   "display_name": "Python 3",
   "language": "python",
   "name": "python3"
  },
  "language_info": {
   "codemirror_mode": {
    "name": "ipython",
    "version": 3
   },
   "file_extension": ".py",
   "mimetype": "text/x-python",
   "name": "python",
   "nbconvert_exporter": "python",
   "pygments_lexer": "ipython3",
   "version": "3.8.3"
  }
 },
 "nbformat": 4,
 "nbformat_minor": 4
}
